{
 "cells": [
  {
   "cell_type": "code",
   "execution_count": 23,
   "metadata": {
    "collapsed": true
   },
   "outputs": [],
   "source": [
    "import numpy as np\n",
    "from scipy import stats"
   ]
  },
  {
   "cell_type": "code",
   "execution_count": 4,
   "metadata": {},
   "outputs": [
    {
     "name": "stdout",
     "output_type": "stream",
     "text": [
      "[[  9.29766402  -0.60452984  13.63842304  -9.78132897   5.09109068]\n",
      " [ -0.91249909   7.80833322 -11.5506309   -6.2786164   14.96192149]\n",
      " [  4.42156027  -8.36023641  -5.75520424  11.4453681   17.56778671]]\n"
     ]
    }
   ],
   "source": [
    "x = 10 * np.random.randn(3,5)\n",
    "print(x)"
   ]
  },
  {
   "cell_type": "code",
   "execution_count": 8,
   "metadata": {},
   "outputs": [
    {
     "name": "stdout",
     "output_type": "stream",
     "text": [
      "2.73260677835\n"
     ]
    }
   ],
   "source": [
    "print(x.mean())"
   ]
  },
  {
   "cell_type": "code",
   "execution_count": 9,
   "metadata": {},
   "outputs": [
    {
     "name": "stdout",
     "output_type": "stream",
     "text": [
      "[ 3.52826378  0.80570166  3.86385489]\n"
     ]
    }
   ],
   "source": [
    "print(x.mean(axis = 1))"
   ]
  },
  {
   "cell_type": "code",
   "execution_count": 15,
   "metadata": {},
   "outputs": [
    {
     "name": "stdout",
     "output_type": "stream",
     "text": [
      "[  4.2689084   -0.38547768  -1.2224707   -1.53819242  12.54026629]\n"
     ]
    }
   ],
   "source": [
    "print(x.mean(axis = 0))"
   ]
  },
  {
   "cell_type": "code",
   "execution_count": 17,
   "metadata": {},
   "outputs": [
    {
     "name": "stdout",
     "output_type": "stream",
     "text": [
      "40.9891016753\n"
     ]
    }
   ],
   "source": [
    "print(x.sum())"
   ]
  },
  {
   "cell_type": "code",
   "execution_count": 18,
   "metadata": {},
   "outputs": [
    {
     "name": "stdout",
     "output_type": "stream",
     "text": [
      "[ 17.64131892   4.02850832  19.31927443]\n",
      "[ 12.8067252   -1.15643303  -3.6674121   -4.61457727  37.62079888]\n"
     ]
    }
   ],
   "source": [
    "print(x.sum(axis = 1))\n",
    "print(x.sum(axis = 0))"
   ]
  },
  {
   "cell_type": "code",
   "execution_count": 24,
   "metadata": {},
   "outputs": [
    {
     "data": {
      "text/plain": [
       "DescribeResult(nobs=3, minmax=(array([ -0.91249909,  -8.36023641, -11.5506309 ,  -9.78132897,   5.09109068]), array([  9.29766402,   7.80833322,  13.63842304,  11.4453681 ,  17.56778671])), mean=array([  4.2689084 ,  -0.38547768,  -1.2224707 ,  -1.53819242,  12.54026629]), variance=array([  26.07933464,   65.3916489 ,  174.03136458,  129.49688167,\n",
       "         43.31529642]), skewness=array([-0.05486591,  0.0497284 ,  0.55670316,  0.63248672, -0.58445263]), kurtosis=array([-1.5, -1.5, -1.5, -1.5, -1.5]))"
      ]
     },
     "execution_count": 24,
     "metadata": {},
     "output_type": "execute_result"
    }
   ],
   "source": [
    "stats.describe(x)"
   ]
  },
  {
   "cell_type": "code",
   "execution_count": 25,
   "metadata": {},
   "outputs": [
    {
     "name": "stdout",
     "output_type": "stream",
     "text": [
      "[ 5.09109068 -0.91249909  4.42156027]\n"
     ]
    }
   ],
   "source": [
    "print(np.median(x,axis=1))"
   ]
  },
  {
   "cell_type": "code",
   "execution_count": 26,
   "metadata": {},
   "outputs": [
    {
     "name": "stdout",
     "output_type": "stream",
     "text": [
      "[  4.42156027  -0.60452984  -5.75520424  -6.2786164   14.96192149]\n"
     ]
    }
   ],
   "source": [
    "print(np.median(x,axis=0))"
   ]
  },
  {
   "cell_type": "markdown",
   "metadata": {},
   "source": [
    "### Sorting Array: ###"
   ]
  },
  {
   "cell_type": "code",
   "execution_count": 28,
   "metadata": {},
   "outputs": [
    {
     "name": "stdout",
     "output_type": "stream",
     "text": [
      "[-0.17135935 -1.35983965  0.24793207  0.98912353  1.0401871   0.06158045\n",
      " -0.6163766  -0.08223103  0.2321912  -1.67218582]\n"
     ]
    }
   ],
   "source": [
    "unsort = np.random.randn(10)\n",
    "print(unsort)"
   ]
  },
  {
   "cell_type": "code",
   "execution_count": 31,
   "metadata": {},
   "outputs": [
    {
     "name": "stdout",
     "output_type": "stream",
     "text": [
      "[-1.67218582 -1.35983965 -0.6163766  -0.17135935 -0.08223103  0.06158045\n",
      "  0.2321912   0.24793207  0.98912353  1.0401871 ]\n"
     ]
    }
   ],
   "source": [
    "sorted = np.array(unsort)\n",
    "sorted.sort()\n",
    "print(sorted)"
   ]
  },
  {
   "cell_type": "markdown",
   "metadata": {},
   "source": [
    "** Printing unique values in array: **"
   ]
  },
  {
   "cell_type": "code",
   "execution_count": 32,
   "metadata": {
    "collapsed": true
   },
   "outputs": [],
   "source": [
    "xzy = np.array([1,2,2,2,1,3,5,5,5,6,10])"
   ]
  },
  {
   "cell_type": "code",
   "execution_count": 33,
   "metadata": {},
   "outputs": [
    {
     "data": {
      "text/plain": [
       "array([ 1,  2,  3,  5,  6, 10])"
      ]
     },
     "execution_count": 33,
     "metadata": {},
     "output_type": "execute_result"
    }
   ],
   "source": [
    "np.unique(xzy)"
   ]
  },
  {
   "cell_type": "code",
   "execution_count": 34,
   "metadata": {},
   "outputs": [
    {
     "name": "stdout",
     "output_type": "stream",
     "text": [
      "['Desk' 'chair' 'bulb'] ['Lamp' 'chair' 'bulb']\n"
     ]
    }
   ],
   "source": [
    "y1 = np.array(['Desk','chair','bulb'])\n",
    "y2 = np.array(['Lamp','chair','bulb'])\n",
    "print(y1,y2)"
   ]
  },
  {
   "cell_type": "code",
   "execution_count": 40,
   "metadata": {},
   "outputs": [
    {
     "name": "stdout",
     "output_type": "stream",
     "text": [
      "['bulb' 'chair']\n"
     ]
    }
   ],
   "source": [
    "print(np.intersect1d(y1,y2))"
   ]
  },
  {
   "cell_type": "code",
   "execution_count": 41,
   "metadata": {},
   "outputs": [
    {
     "name": "stdout",
     "output_type": "stream",
     "text": [
      "['Desk' 'Lamp' 'bulb' 'chair']\n"
     ]
    }
   ],
   "source": [
    "print(np.union1d(y1,y2))"
   ]
  },
  {
   "cell_type": "code",
   "execution_count": 42,
   "metadata": {},
   "outputs": [
    {
     "name": "stdout",
     "output_type": "stream",
     "text": [
      "['Desk']\n"
     ]
    }
   ],
   "source": [
    "print(np.setdiff1d(y1,y2))"
   ]
  },
  {
   "cell_type": "code",
   "execution_count": 43,
   "metadata": {},
   "outputs": [
    {
     "name": "stdout",
     "output_type": "stream",
     "text": [
      "[False  True  True]\n"
     ]
    }
   ],
   "source": [
    "print(np.in1d(y1,y2))"
   ]
  },
  {
   "cell_type": "code",
   "execution_count": null,
   "metadata": {
    "collapsed": true
   },
   "outputs": [],
   "source": []
  }
 ],
 "metadata": {
  "kernelspec": {
   "display_name": "Python 3",
   "language": "python",
   "name": "python3"
  },
  "language_info": {
   "codemirror_mode": {
    "name": "ipython",
    "version": 3
   },
   "file_extension": ".py",
   "mimetype": "text/x-python",
   "name": "python",
   "nbconvert_exporter": "python",
   "pygments_lexer": "ipython3",
   "version": "3.6.3"
  }
 },
 "nbformat": 4,
 "nbformat_minor": 2
}
